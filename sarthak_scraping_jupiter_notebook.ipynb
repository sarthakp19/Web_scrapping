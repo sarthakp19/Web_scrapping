{
 "cells": [
  {
   "cell_type": "code",
   "execution_count": 1,
   "metadata": {},
   "outputs": [
    {
     "name": "stdout",
     "output_type": "stream",
     "text": [
      "Requirement already satisfied: selenium in d:\\conda\\lib\\site-packages (4.8.2)\n",
      "Requirement already satisfied: trio-websocket~=0.9 in d:\\conda\\lib\\site-packages (from selenium) (0.9.2)\n",
      "Requirement already satisfied: certifi>=2021.10.8 in d:\\conda\\lib\\site-packages (from selenium) (2022.12.7)\n",
      "Requirement already satisfied: urllib3[socks]~=1.26 in d:\\conda\\lib\\site-packages (from selenium) (1.26.12)\n",
      "Requirement already satisfied: trio~=0.17 in d:\\conda\\lib\\site-packages (from selenium) (0.22.0)\n",
      "Requirement already satisfied: idna in d:\\conda\\lib\\site-packages (from trio~=0.17->selenium) (2.8)\n",
      "Requirement already satisfied: attrs>=19.2.0 in d:\\conda\\lib\\site-packages (from trio~=0.17->selenium) (22.1.0)\n",
      "Requirement already satisfied: exceptiongroup>=1.0.0rc9 in d:\\conda\\lib\\site-packages (from trio~=0.17->selenium) (1.1.0)\n",
      "Requirement already satisfied: cffi>=1.14 in d:\\conda\\lib\\site-packages (from trio~=0.17->selenium) (1.15.1)\n",
      "Requirement already satisfied: sortedcontainers in d:\\conda\\lib\\site-packages (from trio~=0.17->selenium) (2.1.0)\n",
      "Requirement already satisfied: sniffio in d:\\conda\\lib\\site-packages (from trio~=0.17->selenium) (1.3.0)\n",
      "Requirement already satisfied: outcome in d:\\conda\\lib\\site-packages (from trio~=0.17->selenium) (1.2.0)\n",
      "Requirement already satisfied: async-generator>=1.9 in d:\\conda\\lib\\site-packages (from trio~=0.17->selenium) (1.10)\n",
      "Requirement already satisfied: wsproto>=0.14 in d:\\conda\\lib\\site-packages (from trio-websocket~=0.9->selenium) (1.2.0)\n",
      "Requirement already satisfied: PySocks!=1.5.7,<2.0,>=1.5.6 in d:\\conda\\lib\\site-packages (from urllib3[socks]~=1.26->selenium) (1.7.0)\n",
      "Requirement already satisfied: pycparser in d:\\conda\\lib\\site-packages (from cffi>=1.14->trio~=0.17->selenium) (2.19)\n",
      "Requirement already satisfied: h11<1,>=0.9.0 in d:\\conda\\lib\\site-packages (from wsproto>=0.14->trio-websocket~=0.9->selenium) (0.14.0)\n",
      "Requirement already satisfied: typing-extensions in d:\\conda\\lib\\site-packages (from h11<1,>=0.9.0->wsproto>=0.14->trio-websocket~=0.9->selenium) (4.3.0)\n",
      "Note: you may need to restart the kernel to use updated packages.\n"
     ]
    },
    {
     "name": "stderr",
     "output_type": "stream",
     "text": [
      "WARNING: Ignoring invalid distribution -umpy (d:\\conda\\lib\\site-packages)\n",
      "WARNING: Ignoring invalid distribution -ip (d:\\conda\\lib\\site-packages)\n",
      "WARNING: Ignoring invalid distribution -umpy (d:\\conda\\lib\\site-packages)\n",
      "WARNING: Ignoring invalid distribution -ip (d:\\conda\\lib\\site-packages)\n",
      "WARNING: Ignoring invalid distribution -umpy (d:\\conda\\lib\\site-packages)\n",
      "WARNING: Ignoring invalid distribution -ip (d:\\conda\\lib\\site-packages)\n",
      "WARNING: Ignoring invalid distribution -umpy (d:\\conda\\lib\\site-packages)\n",
      "WARNING: Ignoring invalid distribution -ip (d:\\conda\\lib\\site-packages)\n",
      "WARNING: Ignoring invalid distribution -umpy (d:\\conda\\lib\\site-packages)\n",
      "WARNING: Ignoring invalid distribution -ip (d:\\conda\\lib\\site-packages)\n",
      "WARNING: Ignoring invalid distribution -umpy (d:\\conda\\lib\\site-packages)\n",
      "WARNING: Ignoring invalid distribution -ip (d:\\conda\\lib\\site-packages)\n"
     ]
    }
   ],
   "source": [
    "pip install selenium"
   ]
  },
  {
   "cell_type": "code",
   "execution_count": 2,
   "metadata": {},
   "outputs": [],
   "source": [
    "from selenium import webdriver\n",
    "from selenium.webdriver.common.by import By\n",
    "from time import sleep"
   ]
  },
  {
   "cell_type": "code",
   "execution_count": 3,
   "metadata": {},
   "outputs": [
    {
     "name": "stderr",
     "output_type": "stream",
     "text": [
      "D:\\conda\\lib\\site-packages\\ipykernel_launcher.py:1: DeprecationWarning: executable_path has been deprecated, please pass in a Service object\n",
      "  \"\"\"Entry point for launching an IPython kernel.\n"
     ]
    },
    {
     "name": "stdout",
     "output_type": "stream",
     "text": [
      "['bridge deck preservation and preventative maintenance to the bridges, bridge approaches and guardrail in various locations throughout District 1', 'lower US-2 under the BNSF RR bridge, widening the roadway from 3 lanes to 4 lanes. Includes asphalt paving, earthwork, grading, drainage, guardrail, MSE retaining walls, a soldier pile wall, utility relocation coord, temp shoring and traffic construction', 'district wide seal coats', 'Please contact the Resident Engineer ***JERRY WILSON P.E. *** AT (208) 772-1224 or jerry.wilson@itd.idaho.gov for any design related questions.', 'Please contact the Resident Engineer ***JUSTIN WUEST P.E.*** AT (208) 772-1253 or justin.wuest@itd.idaho.gov for any design related questions.', 'Please contact the Resident Engineer ***SCOT STACEY P.E.*** AT (208) 745-5609 or scot.stacey@itd.idaho.gov for any design related questions.', 'Please contact the Resident Engineer ***TRAVIS HITCHCOCK P.E.*** AT (208) 544-7915 or travis.hitchcock@itd.idaho.gov for any design related questions.', 'Please contact the Resident Engineer ***JUSTIN WUEST P.E.*** AT (208) 772-1253 or justin.wuest@itd.idaho.gov for any design related questions.', 'Please contact the Resident Engineer *** STYLES SELAK P.E.*** AT (208) 745-7429 or styles.selak@itd.idaho.gov for any design related questions.', 'Please contact the Resident Engineer ***AARON BAIRD P.E.*** AT (208) 234-3608 or aaron.baird@itd.idaho.gov for any design related questions.']\n"
     ]
    }
   ],
   "source": [
    "driver = webdriver.Chrome(executable_path=\"C:/Users/sarth/Downloads/chromedriver_win32/chromedriver.exe\")\n",
    "driver.get(\"https://qcpi.questcdn.com/cdn/posting/?group=1950787&provider=1950787\")\n",
    "est_value_notes = []\n",
    "close_date = []\n",
    "description = []\n",
    "for i in range(1,11):\n",
    "    button = driver.find_element(By.XPATH, f'//*[@id=\"table_id\"]/tbody/tr[{i}]/td[4]/div/a').click()\n",
    "    sleep(10)\n",
    "    val = driver.find_element(By.XPATH,'//*[@id=\"current_project\"]/div/div[2]/div/table/tbody/tr[3]/td[2]').text  #WebDriverWait(driver, 10).until(EC.presence_of_element_located((By.XPATH, '//*[@id=\"current_project\"]/div/div[2]/div/table/tbody/tr[3]/td[2]')))\n",
    "    close = driver.find_element(By.XPATH,'//*[@id=\"current_project\"]/div/div[2]/div/table/tbody/tr[1]/td[2]').text\n",
    "    descr = driver.find_element(By.XPATH,'//*[@id=\"current_project\"]/div/div[3]/div/table/tbody/tr[3]/td[2]').text\n",
    "    est_value_notes.append(val)\n",
    "    close_date.append(close)\n",
    "    description.append(descr)\n",
    "    driver.get(\"https://qcpi.questcdn.com/cdn/posting/?group=1950787&provider=1950787\")\n",
    "    sleep(10)\n",
    "    \n",
    "#driver.quit()\n",
    "print(description)"
   ]
  },
  {
   "cell_type": "code",
   "execution_count": 4,
   "metadata": {},
   "outputs": [],
   "source": [
    "#est value notes  Description   closing date"
   ]
  },
  {
   "cell_type": "code",
   "execution_count": 5,
   "metadata": {},
   "outputs": [
    {
     "name": "stdout",
     "output_type": "stream",
     "text": [
      "['bridge deck preservation and preventative maintenance to the bridges, bridge approaches and guardrail in various locations throughout District 1', 'lower US-2 under the BNSF RR bridge, widening the roadway from 3 lanes to 4 lanes. Includes asphalt paving, earthwork, grading, drainage, guardrail, MSE retaining walls, a soldier pile wall, utility relocation coord, temp shoring and traffic construction', 'district wide seal coats', 'Please contact the Resident Engineer ***JERRY WILSON P.E. *** AT (208) 772-1224 or jerry.wilson@itd.idaho.gov for any design related questions.', 'Please contact the Resident Engineer ***JUSTIN WUEST P.E.*** AT (208) 772-1253 or justin.wuest@itd.idaho.gov for any design related questions.', 'Please contact the Resident Engineer ***SCOT STACEY P.E.*** AT (208) 745-5609 or scot.stacey@itd.idaho.gov for any design related questions.', 'Please contact the Resident Engineer ***TRAVIS HITCHCOCK P.E.*** AT (208) 544-7915 or travis.hitchcock@itd.idaho.gov for any design related questions.', 'Please contact the Resident Engineer ***JUSTIN WUEST P.E.*** AT (208) 772-1253 or justin.wuest@itd.idaho.gov for any design related questions.', 'Please contact the Resident Engineer *** STYLES SELAK P.E.*** AT (208) 745-7429 or styles.selak@itd.idaho.gov for any design related questions.', 'Please contact the Resident Engineer ***AARON BAIRD P.E.*** AT (208) 234-3608 or aaron.baird@itd.idaho.gov for any design related questions.']\n"
     ]
    }
   ],
   "source": [
    "print(description)"
   ]
  },
  {
   "cell_type": "code",
   "execution_count": 6,
   "metadata": {},
   "outputs": [],
   "source": [
    "new_description = [i.replace(\"***\",\"\") for i in description]"
   ]
  },
  {
   "cell_type": "code",
   "execution_count": 7,
   "metadata": {},
   "outputs": [
    {
     "name": "stdout",
     "output_type": "stream",
     "text": [
      "['bridge deck preservation and preventative maintenance to the bridges, bridge approaches and guardrail in various locations throughout District 1', 'lower US-2 under the BNSF RR bridge, widening the roadway from 3 lanes to 4 lanes. Includes asphalt paving, earthwork, grading, drainage, guardrail, MSE retaining walls, a soldier pile wall, utility relocation coord, temp shoring and traffic construction', 'district wide seal coats', 'Please contact the Resident Engineer JERRY WILSON P.E.  AT (208) 772-1224 or jerry.wilson@itd.idaho.gov for any design related questions.', 'Please contact the Resident Engineer JUSTIN WUEST P.E. AT (208) 772-1253 or justin.wuest@itd.idaho.gov for any design related questions.', 'Please contact the Resident Engineer SCOT STACEY P.E. AT (208) 745-5609 or scot.stacey@itd.idaho.gov for any design related questions.', 'Please contact the Resident Engineer TRAVIS HITCHCOCK P.E. AT (208) 544-7915 or travis.hitchcock@itd.idaho.gov for any design related questions.', 'Please contact the Resident Engineer JUSTIN WUEST P.E. AT (208) 772-1253 or justin.wuest@itd.idaho.gov for any design related questions.', 'Please contact the Resident Engineer  STYLES SELAK P.E. AT (208) 745-7429 or styles.selak@itd.idaho.gov for any design related questions.', 'Please contact the Resident Engineer AARON BAIRD P.E. AT (208) 234-3608 or aaron.baird@itd.idaho.gov for any design related questions.']\n"
     ]
    }
   ],
   "source": [
    "print(new_description)"
   ]
  },
  {
   "cell_type": "code",
   "execution_count": 8,
   "metadata": {},
   "outputs": [
    {
     "name": "stdout",
     "output_type": "stream",
     "text": [
      "['Tue, 03/07/2023 02:00 PM MST', 'Tue, 03/07/2023 02:00 PM MST', 'Tue, 03/07/2023 02:00 PM MST', 'Tue, 03/07/2023 02:00 PM MST', 'Tue, 03/07/2023 02:00 PM MST', 'Tue, 03/07/2023 02:00 PM MST', 'Tue, 03/14/2023 02:00 PM MDT', 'Tue, 03/14/2023 02:00 PM MDT', 'Tue, 03/14/2023 02:00 PM MDT', 'Tue, 03/14/2023 02:00 PM MDT']\n"
     ]
    }
   ],
   "source": [
    "print(close_date)"
   ]
  },
  {
   "cell_type": "code",
   "execution_count": 9,
   "metadata": {},
   "outputs": [
    {
     "name": "stdout",
     "output_type": "stream",
     "text": [
      "['$2,500,000.00 to $5,000,000.00', '$2,500,000.00 to $5,000,000.00', '$2,500,000.00 to $5,000,000.00', '$5,000,000 to $10,000,000', '$2,500,000 to $5,000,000', '$1,000,000 to $2,500,000', 'Greater than 25 Million', '$2,500,000 to $5,000,000', '$15,000,000 to $25,000,000', '$15,000,000.00 to $20,000,000.00']\n"
     ]
    }
   ],
   "source": [
    "print(est_value_notes)"
   ]
  },
  {
   "cell_type": "code",
   "execution_count": 10,
   "metadata": {},
   "outputs": [
    {
     "name": "stdout",
     "output_type": "stream",
     "text": [
      "Requirement already satisfied: pandas in d:\\conda\\lib\\site-packages (1.3.5)\n",
      "Requirement already satisfied: pytz>=2017.3 in d:\\conda\\lib\\site-packages (from pandas) (2019.1)\n",
      "Requirement already satisfied: python-dateutil>=2.7.3 in d:\\conda\\lib\\site-packages (from pandas) (2.8.0)\n",
      "Requirement already satisfied: numpy>=1.17.3 in d:\\conda\\lib\\site-packages (from pandas) (1.21.6)\n",
      "Requirement already satisfied: six>=1.5 in c:\\users\\sarth\\appdata\\roaming\\python\\python37\\site-packages (from python-dateutil>=2.7.3->pandas) (1.16.0)\n",
      "Note: you may need to restart the kernel to use updated packages.\n"
     ]
    },
    {
     "name": "stderr",
     "output_type": "stream",
     "text": [
      "WARNING: Ignoring invalid distribution -umpy (d:\\conda\\lib\\site-packages)\n",
      "WARNING: Ignoring invalid distribution -ip (d:\\conda\\lib\\site-packages)\n",
      "WARNING: Ignoring invalid distribution -umpy (d:\\conda\\lib\\site-packages)\n",
      "WARNING: Ignoring invalid distribution -ip (d:\\conda\\lib\\site-packages)\n",
      "WARNING: Ignoring invalid distribution -umpy (d:\\conda\\lib\\site-packages)\n",
      "WARNING: Ignoring invalid distribution -ip (d:\\conda\\lib\\site-packages)\n",
      "WARNING: Ignoring invalid distribution -umpy (d:\\conda\\lib\\site-packages)\n",
      "WARNING: Ignoring invalid distribution -ip (d:\\conda\\lib\\site-packages)\n",
      "WARNING: Ignoring invalid distribution -umpy (d:\\conda\\lib\\site-packages)\n",
      "WARNING: Ignoring invalid distribution -ip (d:\\conda\\lib\\site-packages)\n",
      "WARNING: Ignoring invalid distribution -umpy (d:\\conda\\lib\\site-packages)\n",
      "WARNING: Ignoring invalid distribution -ip (d:\\conda\\lib\\site-packages)\n"
     ]
    }
   ],
   "source": [
    "pip install pandas"
   ]
  },
  {
   "cell_type": "code",
   "execution_count": 11,
   "metadata": {},
   "outputs": [],
   "source": [
    "import pandas as pd"
   ]
  },
  {
   "cell_type": "code",
   "execution_count": 12,
   "metadata": {},
   "outputs": [],
   "source": [
    "dic = {\"Description\":new_description,\"Est. Value Notes\":est_value_notes,\"Closing Date\":close_date}"
   ]
  },
  {
   "cell_type": "code",
   "execution_count": 13,
   "metadata": {},
   "outputs": [],
   "source": [
    "df = pd.DataFrame(dic)"
   ]
  },
  {
   "cell_type": "code",
   "execution_count": 14,
   "metadata": {},
   "outputs": [
    {
     "data": {
      "text/html": [
       "<div>\n",
       "<style scoped>\n",
       "    .dataframe tbody tr th:only-of-type {\n",
       "        vertical-align: middle;\n",
       "    }\n",
       "\n",
       "    .dataframe tbody tr th {\n",
       "        vertical-align: top;\n",
       "    }\n",
       "\n",
       "    .dataframe thead th {\n",
       "        text-align: right;\n",
       "    }\n",
       "</style>\n",
       "<table border=\"1\" class=\"dataframe\">\n",
       "  <thead>\n",
       "    <tr style=\"text-align: right;\">\n",
       "      <th></th>\n",
       "      <th>Description</th>\n",
       "      <th>Est. Value Notes</th>\n",
       "      <th>Closing Date</th>\n",
       "    </tr>\n",
       "  </thead>\n",
       "  <tbody>\n",
       "    <tr>\n",
       "      <th>0</th>\n",
       "      <td>bridge deck preservation and preventative main...</td>\n",
       "      <td>$2,500,000.00 to $5,000,000.00</td>\n",
       "      <td>Tue, 03/07/2023 02:00 PM MST</td>\n",
       "    </tr>\n",
       "    <tr>\n",
       "      <th>1</th>\n",
       "      <td>lower US-2 under the BNSF RR bridge, widening ...</td>\n",
       "      <td>$2,500,000.00 to $5,000,000.00</td>\n",
       "      <td>Tue, 03/07/2023 02:00 PM MST</td>\n",
       "    </tr>\n",
       "    <tr>\n",
       "      <th>2</th>\n",
       "      <td>district wide seal coats</td>\n",
       "      <td>$2,500,000.00 to $5,000,000.00</td>\n",
       "      <td>Tue, 03/07/2023 02:00 PM MST</td>\n",
       "    </tr>\n",
       "    <tr>\n",
       "      <th>3</th>\n",
       "      <td>Please contact the Resident Engineer JERRY WIL...</td>\n",
       "      <td>$5,000,000 to $10,000,000</td>\n",
       "      <td>Tue, 03/07/2023 02:00 PM MST</td>\n",
       "    </tr>\n",
       "    <tr>\n",
       "      <th>4</th>\n",
       "      <td>Please contact the Resident Engineer JUSTIN WU...</td>\n",
       "      <td>$2,500,000 to $5,000,000</td>\n",
       "      <td>Tue, 03/07/2023 02:00 PM MST</td>\n",
       "    </tr>\n",
       "    <tr>\n",
       "      <th>5</th>\n",
       "      <td>Please contact the Resident Engineer SCOT STAC...</td>\n",
       "      <td>$1,000,000 to $2,500,000</td>\n",
       "      <td>Tue, 03/07/2023 02:00 PM MST</td>\n",
       "    </tr>\n",
       "    <tr>\n",
       "      <th>6</th>\n",
       "      <td>Please contact the Resident Engineer TRAVIS HI...</td>\n",
       "      <td>Greater than 25 Million</td>\n",
       "      <td>Tue, 03/14/2023 02:00 PM MDT</td>\n",
       "    </tr>\n",
       "    <tr>\n",
       "      <th>7</th>\n",
       "      <td>Please contact the Resident Engineer JUSTIN WU...</td>\n",
       "      <td>$2,500,000 to $5,000,000</td>\n",
       "      <td>Tue, 03/14/2023 02:00 PM MDT</td>\n",
       "    </tr>\n",
       "    <tr>\n",
       "      <th>8</th>\n",
       "      <td>Please contact the Resident Engineer  STYLES S...</td>\n",
       "      <td>$15,000,000 to $25,000,000</td>\n",
       "      <td>Tue, 03/14/2023 02:00 PM MDT</td>\n",
       "    </tr>\n",
       "    <tr>\n",
       "      <th>9</th>\n",
       "      <td>Please contact the Resident Engineer AARON BAI...</td>\n",
       "      <td>$15,000,000.00 to $20,000,000.00</td>\n",
       "      <td>Tue, 03/14/2023 02:00 PM MDT</td>\n",
       "    </tr>\n",
       "  </tbody>\n",
       "</table>\n",
       "</div>"
      ],
      "text/plain": [
       "                                         Description  \\\n",
       "0  bridge deck preservation and preventative main...   \n",
       "1  lower US-2 under the BNSF RR bridge, widening ...   \n",
       "2                           district wide seal coats   \n",
       "3  Please contact the Resident Engineer JERRY WIL...   \n",
       "4  Please contact the Resident Engineer JUSTIN WU...   \n",
       "5  Please contact the Resident Engineer SCOT STAC...   \n",
       "6  Please contact the Resident Engineer TRAVIS HI...   \n",
       "7  Please contact the Resident Engineer JUSTIN WU...   \n",
       "8  Please contact the Resident Engineer  STYLES S...   \n",
       "9  Please contact the Resident Engineer AARON BAI...   \n",
       "\n",
       "                   Est. Value Notes                  Closing Date  \n",
       "0    $2,500,000.00 to $5,000,000.00  Tue, 03/07/2023 02:00 PM MST  \n",
       "1    $2,500,000.00 to $5,000,000.00  Tue, 03/07/2023 02:00 PM MST  \n",
       "2    $2,500,000.00 to $5,000,000.00  Tue, 03/07/2023 02:00 PM MST  \n",
       "3         $5,000,000 to $10,000,000  Tue, 03/07/2023 02:00 PM MST  \n",
       "4          $2,500,000 to $5,000,000  Tue, 03/07/2023 02:00 PM MST  \n",
       "5          $1,000,000 to $2,500,000  Tue, 03/07/2023 02:00 PM MST  \n",
       "6           Greater than 25 Million  Tue, 03/14/2023 02:00 PM MDT  \n",
       "7          $2,500,000 to $5,000,000  Tue, 03/14/2023 02:00 PM MDT  \n",
       "8        $15,000,000 to $25,000,000  Tue, 03/14/2023 02:00 PM MDT  \n",
       "9  $15,000,000.00 to $20,000,000.00  Tue, 03/14/2023 02:00 PM MDT  "
      ]
     },
     "execution_count": 14,
     "metadata": {},
     "output_type": "execute_result"
    }
   ],
   "source": [
    "df"
   ]
  },
  {
   "cell_type": "code",
   "execution_count": 15,
   "metadata": {},
   "outputs": [
    {
     "name": "stdout",
     "output_type": "stream",
     "text": [
      "                                         Description  \\\n",
      "0  bridge deck preservation and preventative main...   \n",
      "1  lower US-2 under the BNSF RR bridge, widening ...   \n",
      "2                           district wide seal coats   \n",
      "3  Please contact the Resident Engineer JERRY WIL...   \n",
      "4  Please contact the Resident Engineer JUSTIN WU...   \n",
      "5  Please contact the Resident Engineer SCOT STAC...   \n",
      "6  Please contact the Resident Engineer TRAVIS HI...   \n",
      "7  Please contact the Resident Engineer JUSTIN WU...   \n",
      "8  Please contact the Resident Engineer  STYLES S...   \n",
      "9  Please contact the Resident Engineer AARON BAI...   \n",
      "\n",
      "                   Est. Value Notes                  Closing Date  \n",
      "0    $2,500,000.00 to $5,000,000.00  Tue, 03/07/2023 02:00 PM MST  \n",
      "1    $2,500,000.00 to $5,000,000.00  Tue, 03/07/2023 02:00 PM MST  \n",
      "2    $2,500,000.00 to $5,000,000.00  Tue, 03/07/2023 02:00 PM MST  \n",
      "3         $5,000,000 to $10,000,000  Tue, 03/07/2023 02:00 PM MST  \n",
      "4          $2,500,000 to $5,000,000  Tue, 03/07/2023 02:00 PM MST  \n",
      "5          $1,000,000 to $2,500,000  Tue, 03/07/2023 02:00 PM MST  \n",
      "6           Greater than 25 Million  Tue, 03/14/2023 02:00 PM MDT  \n",
      "7          $2,500,000 to $5,000,000  Tue, 03/14/2023 02:00 PM MDT  \n",
      "8        $15,000,000 to $25,000,000  Tue, 03/14/2023 02:00 PM MDT  \n",
      "9  $15,000,000.00 to $20,000,000.00  Tue, 03/14/2023 02:00 PM MDT  \n"
     ]
    }
   ],
   "source": [
    "print(df)"
   ]
  },
  {
   "cell_type": "code",
   "execution_count": null,
   "metadata": {},
   "outputs": [],
   "source": []
  }
 ],
 "metadata": {
  "kernelspec": {
   "display_name": "Python 3",
   "language": "python",
   "name": "python3"
  },
  "language_info": {
   "codemirror_mode": {
    "name": "ipython",
    "version": 3
   },
   "file_extension": ".py",
   "mimetype": "text/x-python",
   "name": "python",
   "nbconvert_exporter": "python",
   "pygments_lexer": "ipython3",
   "version": "3.7.3"
  }
 },
 "nbformat": 4,
 "nbformat_minor": 2
}
